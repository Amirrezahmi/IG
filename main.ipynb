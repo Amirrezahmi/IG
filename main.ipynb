{
  "nbformat": 4,
  "nbformat_minor": 0,
  "metadata": {
    "colab": {
      "provenance": [],
      "authorship_tag": "ABX9TyPwB6ZiytlhGnBYfVA4VJ10",
      "include_colab_link": true
    },
    "kernelspec": {
      "name": "python3",
      "display_name": "Python 3"
    },
    "language_info": {
      "name": "python"
    }
  },
  "cells": [
    {
      "cell_type": "markdown",
      "metadata": {
        "id": "view-in-github",
        "colab_type": "text"
      },
      "source": [
        "<a href=\"https://colab.research.google.com/github/Amirrezahmi/IG/blob/main/main.ipynb\" target=\"_parent\"><img src=\"https://colab.research.google.com/assets/colab-badge.svg\" alt=\"Open In Colab\"/></a>"
      ]
    },
    {
      "cell_type": "code",
      "source": [
        "pip install colorama"
      ],
      "metadata": {
        "colab": {
          "base_uri": "https://localhost:8080/"
        },
        "id": "lggyFWbbwThW",
        "outputId": "991500ba-08d8-40a3-f43f-790b79f3e0c9"
      },
      "execution_count": null,
      "outputs": [
        {
          "output_type": "stream",
          "name": "stdout",
          "text": [
            "Looking in indexes: https://pypi.org/simple, https://us-python.pkg.dev/colab-wheels/public/simple/\n",
            "Collecting colorama\n",
            "  Downloading colorama-0.4.6-py2.py3-none-any.whl (25 kB)\n",
            "Installing collected packages: colorama\n",
            "Successfully installed colorama-0.4.6\n"
          ]
        }
      ]
    },
    {
      "cell_type": "code",
      "source": [
        "pip install instagrapi"
      ],
      "metadata": {
        "colab": {
          "base_uri": "https://localhost:8080/"
        },
        "id": "3mf736TbJzZm",
        "outputId": "c0071eed-faea-4b12-c922-c70b7a7e9e05"
      },
      "execution_count": null,
      "outputs": [
        {
          "output_type": "stream",
          "name": "stdout",
          "text": [
            "Looking in indexes: https://pypi.org/simple, https://us-python.pkg.dev/colab-wheels/public/simple/\n",
            "Collecting instagrapi\n",
            "  Downloading instagrapi-1.17.1.tar.gz (87 kB)\n",
            "\u001b[2K     \u001b[90m━━━━━━━━━━━━━━━━━━━━━━━━━━━━━━━━━━━━━━━━\u001b[0m \u001b[32m87.7/87.7 KB\u001b[0m \u001b[31m1.5 MB/s\u001b[0m eta \u001b[36m0:00:00\u001b[0m\n",
            "\u001b[?25h  Preparing metadata (setup.py) ... \u001b[?25l\u001b[?25hdone\n",
            "Requirement already satisfied: requests<3.0,>=2.25.1 in /usr/local/lib/python3.9/dist-packages (from instagrapi) (2.27.1)\n",
            "Requirement already satisfied: PySocks==1.7.1 in /usr/local/lib/python3.9/dist-packages (from instagrapi) (1.7.1)\n",
            "Collecting pydantic==1.10.5\n",
            "  Downloading pydantic-1.10.5-cp39-cp39-manylinux_2_17_x86_64.manylinux2014_x86_64.whl (3.2 MB)\n",
            "\u001b[2K     \u001b[90m━━━━━━━━━━━━━━━━━━━━━━━━━━━━━━━━━━━━━━━━\u001b[0m \u001b[32m3.2/3.2 MB\u001b[0m \u001b[31m50.1 MB/s\u001b[0m eta \u001b[36m0:00:00\u001b[0m\n",
            "\u001b[?25hCollecting pycryptodomex==3.17\n",
            "  Downloading pycryptodomex-3.17-cp35-abi3-manylinux_2_17_x86_64.manylinux2014_x86_64.whl (2.1 MB)\n",
            "\u001b[2K     \u001b[90m━━━━━━━━━━━━━━━━━━━━━━━━━━━━━━━━━━━━━━━━\u001b[0m \u001b[32m2.1/2.1 MB\u001b[0m \u001b[31m22.5 MB/s\u001b[0m eta \u001b[36m0:00:00\u001b[0m\n",
            "\u001b[?25hRequirement already satisfied: typing-extensions>=4.2.0 in /usr/local/lib/python3.9/dist-packages (from pydantic==1.10.5->instagrapi) (4.5.0)\n",
            "Requirement already satisfied: certifi>=2017.4.17 in /usr/local/lib/python3.9/dist-packages (from requests<3.0,>=2.25.1->instagrapi) (2022.12.7)\n",
            "Requirement already satisfied: idna<4,>=2.5 in /usr/local/lib/python3.9/dist-packages (from requests<3.0,>=2.25.1->instagrapi) (3.4)\n",
            "Requirement already satisfied: urllib3<1.27,>=1.21.1 in /usr/local/lib/python3.9/dist-packages (from requests<3.0,>=2.25.1->instagrapi) (1.26.15)\n",
            "Requirement already satisfied: charset-normalizer~=2.0.0 in /usr/local/lib/python3.9/dist-packages (from requests<3.0,>=2.25.1->instagrapi) (2.0.12)\n",
            "Building wheels for collected packages: instagrapi\n",
            "  Building wheel for instagrapi (setup.py) ... \u001b[?25l\u001b[?25hdone\n",
            "  Created wheel for instagrapi: filename=instagrapi-1.17.1-py3-none-any.whl size=101046 sha256=70ecc475bc931481da58e408fb4130f5e6e88404b05b86e18c34b526605a5db6\n",
            "  Stored in directory: /root/.cache/pip/wheels/71/c7/bf/de74be691c2525125e90d7853835111dfd2fb395f8fececf58\n",
            "Successfully built instagrapi\n",
            "Installing collected packages: pydantic, pycryptodomex, instagrapi\n",
            "  Attempting uninstall: pydantic\n",
            "    Found existing installation: pydantic 1.10.6\n",
            "    Uninstalling pydantic-1.10.6:\n",
            "      Successfully uninstalled pydantic-1.10.6\n",
            "Successfully installed instagrapi-1.17.1 pycryptodomex-3.17 pydantic-1.10.5\n"
          ]
        }
      ]
    },
    {
      "cell_type": "code",
      "source": [
        "from instagrapi import Client\n",
        "from collections import defaultdict\n",
        "import colorama\n",
        "from colorama import Fore\n",
        "\n",
        "username = ''  #Enter your username\n",
        "password = ''  # Eter your password\n",
        "cl = Client()\n",
        "cl.logout()\n",
        "cl.login(username,password)\n",
        "user_id = cl.user_id_from_username(username)\n",
        "all_stories = cl.user_stories(user_id)\n",
        "\n",
        "view_count = defaultdict(list)\n",
        "usernames = defaultdict(list)\n",
        "full_name = defaultdict(list)\n",
        "for i,story in enumerate(all_stories):\n",
        "  tag = 'story' + str(i+1)\n",
        "  view_count[tag] = len(cl.story_viewers(story.id))\n",
        "  for view in cl.story_viewers(story.id):\n",
        "    usernames[tag].append(view.username)\n",
        "    full_name[tag].append(view.full_name)\n",
        "print(Fore.RED+\"Viwers number for each story:\", Fore.RESET)\n",
        "for i in view_count: print(f'{i}:{view_count[i]}')\n",
        "print(Fore.GREEN+'#'*50,Fore.RESET)\n",
        "print(Fore.RED+'Story viewrs Username:',Fore.RESET)\n",
        "for i in usernames: print(f'{i}:{usernames[i]}')\n",
        "print(Fore.GREEN+'#'*50,Fore.RESET)\n",
        "print(Fore.RED+'Story viewrs Full name:',Fore.RESET)\n",
        "for i in full_name: print(f'{i}:{full_name[i]}')\n",
        "\n",
        "cur=dict()\n",
        "w=0\n",
        "m=dict()\n",
        "for i in usernames['story1']:\n",
        "  for j in range(1,9):\n",
        "    a='story'+str(j)\n",
        "    if i in usernames[a]:\n",
        "      w+=100/8\n",
        "  m.update({i:str(w)+'%'})\n",
        "  w=0\n",
        "print(Fore.GREEN+'#'*50,Fore.RESET)\n",
        "print(Fore.RED+'Curiosity percentage of each viewer:',Fore.RESET)\n",
        "print(m)\n",
        "print(Fore.GREEN+'#'*50,Fore.RESET)\n",
        "print(Fore.RED+'Viewers who are 100% curious:',Fore.RESET)\n",
        "sum=0\n",
        "v1=[]\n",
        "for i in m:\n",
        "  if m[i]=='100.0%':\n",
        "    print(f'{i}:{m[i]}')\n",
        "    v1.append(i)\n",
        "    sum+=1\n",
        "print(Fore.BLUE+f'So you have {sum} followers who are 100% curious about you.',Fore.RESET)\n",
        "print(Fore.GREEN+'#'*50,Fore.RESET)\n",
        "print(Fore.RED+'Now see all profile information about 100% curious followers:'*50,Fore.RESET)\n",
        "u=[]\n",
        "for i in v1:\n",
        "  print(cl.user_info_by_username(i).dict())\n",
        "  print(Fore.YELLOW+'*'*50,Fore.RESET)"
      ],
      "metadata": {
        "id": "Nqr4JaXQ_5pU"
      },
      "execution_count": null,
      "outputs": []
    },
    {
      "cell_type": "markdown",
      "source": [],
      "metadata": {
        "id": "Va9P1tD1HFv1"
      }
    }
  ]
}